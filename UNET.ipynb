{
  "nbformat": 4,
  "nbformat_minor": 0,
  "metadata": {
    "colab": {
      "provenance": [],
      "authorship_tag": "ABX9TyOWffwSOtGZ0YET3/rG7HRj",
      "include_colab_link": true
    },
    "kernelspec": {
      "name": "python3",
      "display_name": "Python 3"
    },
    "language_info": {
      "name": "python"
    }
  },
  "cells": [
    {
      "cell_type": "markdown",
      "metadata": {
        "id": "view-in-github",
        "colab_type": "text"
      },
      "source": [
        "<a href=\"https://colab.research.google.com/github/kumar6rishabh/UNET_from_scratch/blob/main/UNET.ipynb\" target=\"_parent\"><img src=\"https://colab.research.google.com/assets/colab-badge.svg\" alt=\"Open In Colab\"/></a>"
      ]
    },
    {
      "cell_type": "code",
      "execution_count": null,
      "metadata": {
        "id": "JJR117qX8eYy"
      },
      "outputs": [],
      "source": [
        "#"
      ]
    },
    {
      "cell_type": "code",
      "source": [
        "import torch\n",
        "import torch.nn as nn"
      ],
      "metadata": {
        "id": "yKKC5lPz8hjx"
      },
      "execution_count": null,
      "outputs": []
    },
    {
      "cell_type": "code",
      "source": [
        "def double_conv(in_channels , out_channels):\n",
        "  block = nn.Sequential(\n",
        "      nn.Conv2d(in_channels , out_channels , kernel_size = 3 , stride = 1 , padding = 0) , \n",
        "      nn.Conv2d(out_channels , out_channels , kernel_size = 3 , stride = 1 , padding = 0)\n",
        "  )\n",
        "  return block\n",
        "def double_back_conv(in_channels , out_channels):\n",
        "  block = nn.Sequential(\n",
        "      nn.Conv2d(in_channels , out_channels , kernel_size = 3 , stride = 1 , padding = 0) , \n",
        "      nn.Conv2d(out_channels , out_channels , kernel_size = 3 , stride = 1 , padding = 0)\n",
        "  )\n",
        "  return block"
      ],
      "metadata": {
        "id": "AZrXnu4584xt"
      },
      "execution_count": null,
      "outputs": []
    },
    {
      "cell_type": "code",
      "source": [
        "class Net(nn.Module):\n",
        "  def __init__(self):\n",
        "    super(Net , self).__init__()\n",
        "\n",
        "    #Expanding path\n",
        "    self.exp1 = double_conv(3 , 64)\n",
        "    self.exp2 = double_conv(64 , 128)\n",
        "    self.exp3 = double_conv(128 , 256)\n",
        "    self.exp4 = double_conv(256 , 512)\n",
        "    self.exp5 = double_conv(512 , 1024)\n",
        "    self.pool = nn.MaxPool2d(kernel_size = 2)\n",
        "\n",
        "    #Decompressing path\n",
        "    self.up_conv12 = nn.ConvTranspose2d(1024 , 512 , kernel_size = 2 , stride = 2)\n",
        "    self.up_conv34 = nn.ConvTranspose2d(512 , 256 , kernel_size = 2 , stride = 2)\n",
        "    self.up_conv56 = nn.ConvTranspose2d(256 , 128 , kernel_size = 2 , stride = 2)\n",
        "    self.up_conv78 = nn.ConvTranspose2d(128 , 64 , kernel_size = 2 , stride = 2)\n",
        "    self.final_conv = nn.Conv2d(64 , 2 , kernel_size = 3 , stride = 1 , padding = 1)\n",
        "\n",
        "  def forward(self , x):\n",
        "    x1 = self.exp1(x)\n",
        "    x2 = self.pool(x1)\n",
        "    x3 = self.exp2(x2)\n",
        "    x4 = self.pool(x3)\n",
        "    x5 = self.exp3(x4)\n",
        "    x6 = self.pool(x5)\n",
        "    x7 = self.exp4(x6)\n",
        "    x8 = self.pool(x7)\n",
        "    x = self.exp5(x8)\n",
        "\n",
        "    x = self.up_conv12(x) #1 , 512 , 56 , 56\n",
        "    x7 = x7[: , : , 4 : 60 , 4 : 60]\n",
        "    x = torch.cat((x , x7) , dim = 1)\n",
        "    x = double_back_conv(1024 , 512)(x)\n",
        "    x = self.up_conv34(x)\n",
        "    x5 = x5[: , : , 16 : 120 , 16 : 120]\n",
        "    x = torch.cat((x , x5) , dim = 1)\n",
        "    x = double_back_conv(512 , 256)(x)\n",
        "    x = self.up_conv56(x)\n",
        "    x3 = x3[: , : , 40 : 240 , 40 : 240]\n",
        "    x = torch.cat((x , x3) , dim = 1)\n",
        "    x = double_back_conv(256 , 128)(x)\n",
        "    x = self.up_conv78(x)\n",
        "    x1 = x1[: , : , 88 : 480 , 88 : 480]\n",
        "    x = torch.cat((x1 , x) , dim = 1)\n",
        "    x = double_back_conv(128 , 64)(x)\n",
        "    x = self.final_conv(x)\n",
        "    return x"
      ],
      "metadata": {
        "id": "75JzF2e38jkW"
      },
      "execution_count": null,
      "outputs": []
    },
    {
      "cell_type": "code",
      "source": [
        "Net()(torch.randn(5 , 3 , 572 , 572)).shape"
      ],
      "metadata": {
        "colab": {
          "base_uri": "https://localhost:8080/"
        },
        "id": "lCizlvP0-ts3",
        "outputId": "d6c88042-ad35-48a9-ace2-e5779fe47ea4"
      },
      "execution_count": null,
      "outputs": [
        {
          "output_type": "execute_result",
          "data": {
            "text/plain": [
              "torch.Size([5, 2, 388, 388])"
            ]
          },
          "metadata": {},
          "execution_count": 9
        }
      ]
    },
    {
      "cell_type": "code",
      "source": [],
      "metadata": {
        "id": "jpdWC-v2-yHd"
      },
      "execution_count": null,
      "outputs": []
    }
  ]
}